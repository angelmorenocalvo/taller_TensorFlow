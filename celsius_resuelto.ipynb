{
  "nbformat": 4,
  "nbformat_minor": 0,
  "metadata": {
    "colab": {
      "name": "celsius_resuelto.ipynb",
      "provenance": [],
      "collapsed_sections": [],
      "include_colab_link": true
    },
    "kernelspec": {
      "name": "python3",
      "display_name": "Python 3"
    }
  },
  "cells": [
    {
      "cell_type": "markdown",
      "metadata": {
        "id": "view-in-github",
        "colab_type": "text"
      },
      "source": [
        "<a href=\"https://colab.research.google.com/github/angelmorenocalvo/taller_TensorFlow/blob/master/celsius_resuelto.ipynb\" target=\"_parent\"><img src=\"https://colab.research.google.com/assets/colab-badge.svg\" alt=\"Open In Colab\"/></a>"
      ]
    },
    {
      "cell_type": "markdown",
      "metadata": {
        "id": "7IBvM8pgkVZE",
        "colab_type": "text"
      },
      "source": [
        "# Celsius"
      ]
    },
    {
      "cell_type": "markdown",
      "metadata": {
        "id": "gUu1mLNOhbO8",
        "colab_type": "text"
      },
      "source": [
        "En este ejemplo vas ha entrenar tu primer modelo de machine learning.\n",
        "\n",
        "Para empezar usaremos un ejemplo sencillo, este sera el de convertir de grados Celsius a Fahrenheit:\n",
        "\n",
        "$f=c*1.8+32$\n",
        "\n",
        "Si quisiesemos sería muy sencillo el hacer una función en python que hiciese esta tarea, pero esto no seria machine learning :|\n",
        "\n",
        "Vamos a darle a Tensorflow algunos ejemplos de valore de celsius (0,8,15,22,38) y los correspondientes valores de Fahrenheit (32,46,59,72,100). Despues entrenameros el modelo que debería conseguir la formula de arriba."
      ]
    },
    {
      "cell_type": "markdown",
      "metadata": {
        "id": "qGPsJdw6i5qw",
        "colab_type": "text"
      },
      "source": [
        "## Importar las dependencias\n",
        "Primero, importaremos TensorFlow. Lo llamaresm **tf** para que sea un uso más facil.\n",
        "Despues importaremos numpy que nos ayudara a representar nuestros datos como listas con más rendimiento."
      ]
    },
    {
      "cell_type": "code",
      "metadata": {
        "id": "c5QlA0KBjvUM",
        "colab_type": "code",
        "colab": {}
      },
      "source": [
        "%tensorflow_version 2.x\n",
        "import tensorflow as tf\n",
        "import numpy as np"
      ],
      "execution_count": 0,
      "outputs": []
    },
    {
      "cell_type": "markdown",
      "metadata": {
        "id": "iR0B_47qluLE",
        "colab_type": "text"
      },
      "source": [
        "## Preparando los datos de entrenamiento\n",
        "\n",
        "Como sabemos el Machine Learning supervisado cuenta con inputs y outputs conocidos, pero no se conoce el algoritmo.\n",
        "\n",
        "Crearemos dos listas(celsius_q y fahrenheit_a) las que usaremos para entrenar el modelo"
      ]
    },
    {
      "cell_type": "code",
      "metadata": {
        "id": "c08nri5klFQC",
        "colab_type": "code",
        "colab": {
          "base_uri": "https://localhost:8080/",
          "height": 136
        },
        "outputId": "f313db6b-313c-4fd9-fae7-8180f6e884a6"
      },
      "source": [
        "celsius_q = np.array([-40, -10,  0,  8, 15, 22,  38], dtype=float)\n",
        "fahrenheit_a = np.array([-40,  14, 32, 46, 59, 72, 100],  dtype=float)\n",
        "\n",
        "# Imprimimos los datos para verlos por parejas\n",
        "for i,c in enumerate(celsius_q):\n",
        "  print(\"{} grados Celsius = {} grados Fahrenheit\".format(c, fahrenheit_a[i]))\n"
      ],
      "execution_count": 16,
      "outputs": [
        {
          "output_type": "stream",
          "text": [
            "-40.0 grados Celsius = -40.0 grados Fahrenheit\n",
            "-10.0 grados Celsius = 14.0 grados Fahrenheit\n",
            "0.0 grados Celsius = 32.0 grados Fahrenheit\n",
            "8.0 grados Celsius = 46.0 grados Fahrenheit\n",
            "15.0 grados Celsius = 59.0 grados Fahrenheit\n",
            "22.0 grados Celsius = 72.0 grados Fahrenheit\n",
            "38.0 grados Celsius = 100.0 grados Fahrenheit\n"
          ],
          "name": "stdout"
        }
      ]
    },
    {
      "cell_type": "markdown",
      "metadata": {
        "id": "fuSpBkvVnbA7",
        "colab_type": "text"
      },
      "source": [
        "## Algunas terminologías del Machine Learning\n",
        "\n",
        "- **Feature** $\\rightarrow$ el input de nuestro modelo, en este caso los grados Celsius\n",
        "\n",
        "- **Labels** $\\rightarrow$ El output de las predicciones de nuestro modelo, en este caso un unico valor, los grados Fahrenheit.\n",
        "\n",
        "- **Example** $\\rightarrow$ parejas de inputs/outputs que usamos durante nuestro entrenamiento. En nuestro caso una pareja de *celsius_q* y *fahrenheit_a* de un indice dado, ejemplo: (22,72)."
      ]
    },
    {
      "cell_type": "markdown",
      "metadata": {
        "id": "mmb2ADOIoprB",
        "colab_type": "text"
      },
      "source": [
        "## Creando el modelo\n",
        "Ahora pasaremos a crear el modelo. Usaremos el modelo mas simple posible, La red densa.\n",
        "Dado que el problema es sencillo, esta red requerirá una unica capa con una sola neurona.\n",
        "\n",
        "### Creacion de una capa\n",
        "Llamaremos capa `l0` a la capa que utilizaremos, y se instanciará a traves de `tf.keras.layers.Dense`con la siguiente configuración:\n",
        "- `input_shape=[1]` $\\rightarrow$ esto especifica que el input de esta capa es un unico valor. La forma(shape) es un array de una dimensión con un elemento.ya que es la primera(y unica) capa, esta forma de entrada del modelo entero. El unico valor es un número de punto flotante representando los grados Celsius.\n",
        "\n",
        "- `units=1` $\\rightarrow$  este especifica el numero de neuronas en la capa. El número de neuronas define cuantas variables internas  la capa contiene para aprender a solucionar el problema.\n",
        "Como esta es la capa final es tambien el tamaño de output del modelo, un solo valor flotante representado en grados Fahrenheit.\n",
        "(En una red multicapa el tamaño del shape  de la capa debe coincidir con con el `input_shape` de la siguiente capa.)\n",
        "\n"
      ]
    },
    {
      "cell_type": "code",
      "metadata": {
        "id": "-BOt3b22xMru",
        "colab_type": "code",
        "colab": {}
      },
      "source": [
        "l0 = tf.keras.layers.Dense(units = 1, input_shape = [1])"
      ],
      "execution_count": 0,
      "outputs": []
    },
    {
      "cell_type": "markdown",
      "metadata": {
        "id": "x2aE5qJvxyrP",
        "colab_type": "text"
      },
      "source": [
        "## Montar las capas en el modelo\n",
        "\n",
        "Una vez las capas son definidas estas deben montarse en en el modelo. El modelo secuencial se define a traves de una lista con las capas como argumentos, especificando el orden de input a output.\n",
        "\n",
        "Este modelo tiene una unica capa:"
      ]
    },
    {
      "cell_type": "code",
      "metadata": {
        "id": "b4DRYKvaznj7",
        "colab_type": "code",
        "colab": {}
      },
      "source": [
        "model = tf.keras.Sequential([l0])"
      ],
      "execution_count": 0,
      "outputs": []
    },
    {
      "cell_type": "markdown",
      "metadata": {
        "id": "pkhxaWJcZXR7",
        "colab_type": "text"
      },
      "source": [
        "**Se puede crear las capas al mismo tiempo que se meten en el modelo:**"
      ]
    },
    {
      "cell_type": "code",
      "metadata": {
        "id": "FqWQdVsBZk-R",
        "colab_type": "code",
        "colab": {}
      },
      "source": [
        "model = tf.keras.Sequential([\n",
        "  tf.keras.layers.Dense(units=1,input_shape=[1])\n",
        "])"
      ],
      "execution_count": 0,
      "outputs": []
    },
    {
      "cell_type": "markdown",
      "metadata": {
        "id": "VrzVuuLVZ7Vy",
        "colab_type": "text"
      },
      "source": [
        "## Compilar el modelo con las funciones de perdida y optimización.\n",
        "\n",
        "Antes de entrenar el modelo debe ser compilado. Cuando se compila un modelo se le tiene que dar:\n",
        "- Loss funtion $\\rightarrow$  una forma para medir que tan lejos están las predicciones del resultado real\n",
        "- Función de optimización $\\rightarrow$ Forma de ajustar los valores internos a traves de los resultados de la función de perdida."
      ]
    },
    {
      "cell_type": "code",
      "metadata": {
        "id": "GIAMf0U2WVwg",
        "colab_type": "code",
        "colab": {}
      },
      "source": [
        "model.compile(loss='mean_squared_error', optimizer=tf.keras.optimizers.Adam(0.1))"
      ],
      "execution_count": 0,
      "outputs": []
    },
    {
      "cell_type": "markdown",
      "metadata": {
        "id": "NcfqiGVHWjDd",
        "colab_type": "text"
      },
      "source": [
        "La funcion (mean squared error) y el optimizador(Adam) es un estanadar para modelos simples como este. No es importante conocer como funcionan estas funciones para utilizarlas :)\n",
        "\n",
        "Para el optimizador se le debe dar un valor, que es muy importante, el learning rate( en este caso 0.1) que sera la velocidad a la que nuestro modelo aprendera, un learning rate(los pasos que hace) alto provocará que la función pueda no llegar a minimizarse, mientras que un learning rate bajo puede hacer que tarde mucho tiempo en llegar al objetivo.\n",
        "\n",
        "Se suelen utilizar rangos de learning rate entre 0.001 y 0.1"
      ]
    },
    {
      "cell_type": "markdown",
      "metadata": {
        "id": "gZXGvC-qzFXF",
        "colab_type": "text"
      },
      "source": [
        "## Entrenando el modelo\n",
        "Entrenaremos el modelo llamando al metodo `fit`.\n",
        "\n",
        "Durante el entrenamiento, el modelo toma los valores en Celsius, realizando el calculo usando los valores internos de las variables(llamados pesos) y los valores de salida(grados Fahrenheit).\n",
        "\n",
        "Los valores internos de los pesos son calculados aleatóriamente la primera vez, y en las siguientes se va variando el peso a traves de la función de loss y el optimizador directamente en como los pesos deben ser ajustados.\n",
        "\n",
        "El ciclo de calcular, comparar es controlado por el metodo `fit`. Argumentos:\n",
        "1. Inputs.\n",
        "2. Outputs.\n",
        "3. `epoch` las veces que se repetira el ciclo.\n",
        "4. `verbose` la coantidad de argumentos de control que sacara por pantalla el proceso."
      ]
    },
    {
      "cell_type": "code",
      "metadata": {
        "id": "d7sGs8yui2-i",
        "colab_type": "code",
        "colab": {
          "base_uri": "https://localhost:8080/",
          "height": 34
        },
        "outputId": "3f94e4f0-f9fc-48e9-9616-019d01528a2a"
      },
      "source": [
        "history = model.fit(celsius_q, fahrenheit_a, epochs=500, verbose=False)\n",
        "print(\"entrenamiento terminado\")\n"
      ],
      "execution_count": 20,
      "outputs": [
        {
          "output_type": "stream",
          "text": [
            "entrenamiento terminado\n"
          ],
          "name": "stdout"
        }
      ]
    },
    {
      "cell_type": "markdown",
      "metadata": {
        "id": "3hXBwLZ9kZG_",
        "colab_type": "text"
      },
      "source": [
        "## Mostrando los estadísticos\n",
        "El metodo `fit` retorna un objeto histórico Podemos usar este objeto para trazar como la funcion de perdidas de nuestro modelo ha ido bajando a lo largo del entrenamiento. Una perdida grande implica qeu las predicciones están lejos del valor a obtener.\n",
        "\n",
        "Usaremos la libreria Matplotlib para visualizarlo."
      ]
    },
    {
      "cell_type": "code",
      "metadata": {
        "id": "SSMabFnGlOnk",
        "colab_type": "code",
        "colab": {
          "base_uri": "https://localhost:8080/",
          "height": 296
        },
        "outputId": "30af2812-49bc-4700-d54e-2f3e42f45b7a"
      },
      "source": [
        "import matplotlib.pyplot as plt\n",
        "plt.xlabel('epoch nNumber')\n",
        "plt.ylabel(\"Loss Magnitude\")\n",
        "plt.plot(history.history['loss'])"
      ],
      "execution_count": 21,
      "outputs": [
        {
          "output_type": "execute_result",
          "data": {
            "text/plain": [
              "[<matplotlib.lines.Line2D at 0x7f3fdb475470>]"
            ]
          },
          "metadata": {
            "tags": []
          },
          "execution_count": 21
        },
        {
          "output_type": "display_data",
          "data": {
            "image/png": "[encoded data removed]",
            "text/plain": [
              "<Figure size 432x288 with 1 Axes>"
            ]
          },
          "metadata": {
            "tags": []
          }
        }
      ]
    },
    {
      "cell_type": "markdown",
      "metadata": {
        "id": "dWGEdBaPliz0",
        "colab_type": "text"
      },
      "source": [
        "## Usar el modelo para predecir valores\n",
        "\n",
        "Ahora que ya temenos el modelo entrenado podemos usar la predicción para calcular los grados Fahrenheit a traces de los grados Celsius.\n",
        "\n",
        "Provaremos con 100 grados Celsius."
      ]
    },
    {
      "cell_type": "code",
      "metadata": {
        "id": "0XLOz7h3m0ra",
        "colab_type": "code",
        "colab": {
          "base_uri": "https://localhost:8080/",
          "height": 34
        },
        "outputId": "a447c731-cbae-4f9e-c3b0-5c70499e5211"
      },
      "source": [
        "print(model.predict([100.0]))"
      ],
      "execution_count": 22,
      "outputs": [
        {
          "output_type": "stream",
          "text": [
            "[[211.28406]]\n"
          ],
          "name": "stdout"
        }
      ]
    },
    {
      "cell_type": "markdown",
      "metadata": {
        "id": "2vlAV2vTm6xP",
        "colab_type": "text"
      },
      "source": [
        "La respuesta correcta es $100*1.8+32 = 212$ por lo que nuestro modelo lo está haciendo bastante bien."
      ]
    },
    {
      "cell_type": "markdown",
      "metadata": {
        "id": "VoexS1ajnXu6",
        "colab_type": "text"
      },
      "source": [
        "## Veamos los pesos\n",
        "Vamos a imprimir los valores internos de la capa densa."
      ]
    },
    {
      "cell_type": "code",
      "metadata": {
        "id": "cu7bDZIln5XI",
        "colab_type": "code",
        "colab": {
          "base_uri": "https://localhost:8080/",
          "height": 54
        },
        "outputId": "037fb13e-759b-46b7-b0be-0f7826657f30"
      },
      "source": [
        "print(\"estas son las variables de la capa densa: {}\".format(l0.get_weights()))"
      ],
      "execution_count": 23,
      "outputs": [
        {
          "output_type": "stream",
          "text": [
            "estas son las variables de la capa densa: [array([[-0.53457725]], dtype=float32), array([0.], dtype=float32)]\n"
          ],
          "name": "stdout"
        }
      ]
    },
    {
      "cell_type": "markdown",
      "metadata": {
        "id": "97a8NOksoJhu",
        "colab_type": "text"
      },
      "source": [
        "La primera variable esta cerca de 1.8 y la segunda cerca de 32.\n",
        "\n",
        "Se encuentran muy cerca de los valores de la formula. \n",
        "\n",
        "Como se puede ver una unica neurona con una única entrada y una unica salida se muestra igual que la ecuación lineal, $y = mx + b$ que tiene la misma forma que la ecuación buscada $f = 1.8c + 32$.\n",
        " "
      ]
    },
    {
      "cell_type": "markdown",
      "metadata": {
        "id": "2UmHHjUQpIJq",
        "colab_type": "text"
      },
      "source": [
        "## Vamos a jugar\n",
        "creemos una red con mas capas y neuronas.\n",
        "¿Como se comportará?"
      ]
    },
    {
      "cell_type": "code",
      "metadata": {
        "id": "h4pNStV0pVkH",
        "colab_type": "code",
        "colab": {
          "base_uri": "https://localhost:8080/",
          "height": 51
        },
        "outputId": "becd3e10-59c4-4053-88b7-347146799ac3"
      },
      "source": [
        "model2 = tf.keras.Sequential([\n",
        "                              tf.keras.layers.Dense(units=4, input_shape=[1]),\n",
        "                              tf.keras.layers.Dense(units=4),\n",
        "                              tf.keras.layers.Dense(units=1)\n",
        "])\n",
        "model2.compile(loss='mean_squared_error', optimizer=tf.keras.optimizers.Adam(0.1))\n",
        "model2.fit(celsius_q,fahrenheit_a, epochs=500, verbose=False)\n",
        "print(\"Modelo entrenado, vamos ha hacer la predicción de 100.0\")\n",
        "print(model2.predict([100.0]))"
      ],
      "execution_count": 28,
      "outputs": [
        {
          "output_type": "stream",
          "text": [
            "Modelo entrenado, vamos ha hacer la predicción de 100.0\n",
            "[[211.74747]]\n"
          ],
          "name": "stdout"
        }
      ]
    },
    {
      "cell_type": "code",
      "metadata": {
        "id": "bWgOYl2zrC9l",
        "colab_type": "code",
        "colab": {
          "base_uri": "https://localhost:8080/",
          "height": 224
        },
        "outputId": "dddc0b21-d09d-4006-91c5-a01053872bf4"
      },
      "source": [
        "print(\"pesos de la primera capa{}\".format(model2.layers[0].get_weights()))\n",
        "print(\"pesos de la segunda capa{}\".format(model2.layers[1].get_weights()))\n",
        "print(\"pesos de la tercera capa{}\".format(model2.layers[2].get_weights()))"
      ],
      "execution_count": 35,
      "outputs": [
        {
          "output_type": "stream",
          "text": [
            "pesos de la primera capa[array([[ 0.6734086 , -0.30854803,  0.01657695,  0.20667386]],\n",
            "      dtype=float32), array([ 2.8815815,  1.6237755, -2.5138977,  2.2809904], dtype=float32)]\n",
            "pesos de la segunda capa[array([[ 0.52891856, -0.87287414, -1.1995385 , -0.28883666],\n",
            "       [ 0.18473616,  0.08692178, -0.7739378 , -0.0216382 ],\n",
            "       [-0.6325628 , -0.10597235,  0.2539062 ,  0.893905  ],\n",
            "       [ 0.7804966 ,  0.29433006, -0.51371026, -0.1113373 ]],\n",
            "      dtype=float32), array([ 2.8283384, -2.261159 , -2.8340728, -2.8229747], dtype=float32)]\n",
            "pesos de la tercera capa[array([[ 1.0148757 ],\n",
            "       [-0.34091124],\n",
            "       [-1.4037302 ],\n",
            "       [-1.0715073 ]], dtype=float32), array([2.7801483], dtype=float32)]\n"
          ],
          "name": "stdout"
        }
      ]
    }
  ]
}