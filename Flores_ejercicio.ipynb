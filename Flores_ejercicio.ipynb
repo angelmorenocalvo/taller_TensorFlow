{
  "nbformat": 4,
  "nbformat_minor": 0,
  "metadata": {
    "colab": {
      "name": "Flores_ejercicio.ipynb",
      "provenance": [],
      "include_colab_link": true
    },
    "kernelspec": {
      "name": "python3",
      "display_name": "Python 3"
    }
  },
  "cells": [
    {
      "cell_type": "markdown",
      "metadata": {
        "id": "view-in-github",
        "colab_type": "text"
      },
      "source": [
        "<a href=\"https://colab.research.google.com/github/angelmorenocalvo/taller_TensorFlow/blob/master/Flores_ejercicio.ipynb\" target=\"_parent\"><img src=\"https://colab.research.google.com/assets/colab-badge.svg\" alt=\"Open In Colab\"/></a>"
      ]
    },
    {
      "cell_type": "markdown",
      "metadata": {
        "id": "duWrB1l5-AxM",
        "colab_type": "text"
      },
      "source": [
        "#Clasificación de flores\n",
        "\n",
        "##Importing Packages\n",
        "\n",
        "Let's start by importing required packages. os package is used to read files and directory structure, numpy is used to convert python list to numpy array and to perform required matrix operations and matplotlib.pyplot is used to plot the graph and display images in our training and validation data."
      ]
    },
    {
      "cell_type": "code",
      "metadata": {
        "id": "7ciWJSyu9pGf",
        "colab_type": "code",
        "colab": {}
      },
      "source": [
        "import os\n",
        "import numpy as np\n",
        "import glob\n",
        "import shutil\n",
        "import matplotlib.pyplot as plt"
      ],
      "execution_count": 0,
      "outputs": []
    },
    {
      "cell_type": "markdown",
      "metadata": {
        "id": "RCrQ95tz-ZZY",
        "colab_type": "text"
      },
      "source": [
        "### TODO: Import TensorFlow and Keras Layers\n",
        "\n",
        "In the cell below, import Tensorflow as `tf` and the Keras layers and models you will use to build your CNN. Also, import the `ImageDataGenerator` from Keras so that you can perform image augmentation."
      ]
    },
    {
      "cell_type": "code",
      "metadata": {
        "id": "BcLTgaek-bk3",
        "colab_type": "code",
        "colab": {}
      },
      "source": [
        "#import packages"
      ],
      "execution_count": 0,
      "outputs": []
    },
    {
      "cell_type": "markdown",
      "metadata": {
        "id": "P-0YSuBP-enp",
        "colab_type": "text"
      },
      "source": [
        "# Data Loading"
      ]
    },
    {
      "cell_type": "markdown",
      "metadata": {
        "id": "d89nzYQb-fVN",
        "colab_type": "text"
      },
      "source": [
        "In order to build our image classifier, we can begin by downloading the flowers dataset. We first need to download the archive version of the dataset and after the download we are storing it to \"/tmp/\" directory.\n",
        "\n"
      ]
    },
    {
      "cell_type": "markdown",
      "metadata": {
        "id": "YTaglALV-muQ",
        "colab_type": "text"
      },
      "source": [
        "# After downloading the dataset, we need to extract its contents."
      ]
    },
    {
      "cell_type": "code",
      "metadata": {
        "id": "sadZ4Naf-qXi",
        "colab_type": "code",
        "colab": {}
      },
      "source": [
        "_URL = \"https://storage.googleapis.com/download.tensorflow.org/example_images/flower_photos.tgz\"\n",
        "\n",
        "zip_file = tf.keras.utils.get_file(origin=_URL,\n",
        "                                   fname=\"flower_photos.tgz\",\n",
        "                                   extract=True)\n",
        "\n",
        "base_dir = os.path.join(os.path.dirname(zip_file), 'flower_photos')"
      ],
      "execution_count": 0,
      "outputs": []
    },
    {
      "cell_type": "markdown",
      "metadata": {
        "id": "viu-ogU9-ujY",
        "colab_type": "text"
      },
      "source": [
        "The dataset we downloaded contains images of 5 types of flowers:\n",
        "\n",
        "1. Rose\n",
        "2. Daisy\n",
        "3. Dandelion\n",
        "4. Sunflowers\n",
        "5. Tulips\n",
        "\n",
        "So, let's create the labels for these 5 classes: "
      ]
    },
    {
      "cell_type": "code",
      "metadata": {
        "id": "Hk3H5xUl-vIw",
        "colab_type": "code",
        "colab": {}
      },
      "source": [
        "classes = ['roses', 'daisy', 'dandelion', 'sunflowers', 'tulips']"
      ],
      "execution_count": 0,
      "outputs": []
    },
    {
      "cell_type": "markdown",
      "metadata": {
        "id": "dYCAzNCG-3d3",
        "colab_type": "text"
      },
      "source": [
        "Also, the dataset we have downloaded has following directory structure.\n",
        "\n",
        "<pre style=\"font-size: 10.0pt; font-family: Arial; line-height: 2; letter-spacing: 1.0pt;\" >\n",
        "<b>flower_photos</b>\n",
        "|__ <b>diasy</b>\n",
        "|__ <b>dandelion</b>\n",
        "|__ <b>roses</b>\n",
        "|__ <b>sunflowers</b>\n",
        "|__ <b>tulips</b>\n",
        "</pre>\n",
        "\n",
        "As you can see there are no folders containing training and validation data. Therefore, we will have to create our own training and validation set. Let's write some code that will do this.\n",
        "\n",
        "\n",
        "The code below creates a `train` and a `val` folder each containing 5 folders (one for each type of flower). It then moves the images from the original folders to these new folders such that 80% of the images go to the training set and 20% of the images go into the validation set. In the end our directory will have the following structure:\n",
        "\n",
        "\n",
        "<pre style=\"font-size: 10.0pt; font-family: Arial; line-height: 2; letter-spacing: 1.0pt;\" >\n",
        "<b>flower_photos</b>\n",
        "|__ <b>diasy</b>\n",
        "|__ <b>dandelion</b>\n",
        "|__ <b>roses</b>\n",
        "|__ <b>sunflowers</b>\n",
        "|__ <b>tulips</b>\n",
        "|__ <b>train</b>\n",
        "    |______ <b>daisy</b>: [1.jpg, 2.jpg, 3.jpg ....]\n",
        "    |______ <b>dandelion</b>: [1.jpg, 2.jpg, 3.jpg ....]\n",
        "    |______ <b>roses</b>: [1.jpg, 2.jpg, 3.jpg ....]\n",
        "    |______ <b>sunflowers</b>: [1.jpg, 2.jpg, 3.jpg ....]\n",
        "    |______ <b>tulips</b>: [1.jpg, 2.jpg, 3.jpg ....]\n",
        " |__ <b>val</b>\n",
        "    |______ <b>daisy</b>: [507.jpg, 508.jpg, 509.jpg ....]\n",
        "    |______ <b>dandelion</b>: [719.jpg, 720.jpg, 721.jpg ....]\n",
        "    |______ <b>roses</b>: [514.jpg, 515.jpg, 516.jpg ....]\n",
        "    |______ <b>sunflowers</b>: [560.jpg, 561.jpg, 562.jpg .....]\n",
        "    |______ <b>tulips</b>: [640.jpg, 641.jpg, 642.jpg ....]\n",
        "</pre>\n",
        "\n",
        "Since we don't delete the original folders, they will still be in our `flower_photos` directory, but they will be empty. The code below also prints the total number of flower images we have for each type of flower. \n"
      ]
    },
    {
      "cell_type": "code",
      "metadata": {
        "id": "OqfnEmkS-78e",
        "colab_type": "code",
        "colab": {}
      },
      "source": [
        "for cl in classes:\n",
        "  img_path = os.path.join(base_dir, cl)\n",
        "  images = glob.glob(img_path + '/*.jpg')\n",
        "  print(\"{}: {} Images\".format(cl, len(images)))\n",
        "  train, val = images[:round(len(images)*0.8)], images[round(len(images)*0.8):]\n",
        "\n",
        "  for t in train:\n",
        "    if not os.path.exists(os.path.join(base_dir, 'train', cl)):\n",
        "      os.makedirs(os.path.join(base_dir, 'train', cl))\n",
        "    shutil.move(t, os.path.join(base_dir, 'train', cl))\n",
        "\n",
        "  for v in val:\n",
        "    if not os.path.exists(os.path.join(base_dir, 'val', cl)):\n",
        "      os.makedirs(os.path.join(base_dir, 'val', cl))\n",
        "    shutil.move(v, os.path.join(base_dir, 'val', cl))"
      ],
      "execution_count": 0,
      "outputs": []
    },
    {
      "cell_type": "markdown",
      "metadata": {
        "id": "mWJSa11V_CIv",
        "colab_type": "text"
      },
      "source": [
        "For convenience, let us set up the path for the training and validation sets"
      ]
    },
    {
      "cell_type": "code",
      "metadata": {
        "id": "9bfE_bOl_Azk",
        "colab_type": "code",
        "colab": {}
      },
      "source": [
        "train_dir = os.path.join(base_dir, 'train')\n",
        "val_dir = os.path.join(base_dir, 'val')"
      ],
      "execution_count": 0,
      "outputs": []
    },
    {
      "cell_type": "markdown",
      "metadata": {
        "id": "DchX9mpz_KDp",
        "colab_type": "text"
      },
      "source": [
        "# Data Augmentation"
      ]
    },
    {
      "cell_type": "markdown",
      "metadata": {
        "id": "Q0AKSS8V_Kqw",
        "colab_type": "text"
      },
      "source": [
        "Overfitting generally occurs when we have small number of training examples. One way to fix this problem is to augment our dataset so that it has sufficient number of training examples. Data augmentation takes the approach of generating more training data from existing training samples, by augmenting the samples via a number of random transformations that yield believable-looking images. The goal is that at training time, your model will never see the exact same picture twice. This helps expose the model to more aspects of the data and generalize better.\n",
        "\n",
        "In **tf.keras** we can implement this using the same **ImageDataGenerator** class we used before. We can simply pass different transformations we would want to our dataset as a form of arguments and it will take care of applying it to the dataset during our training process. "
      ]
    },
    {
      "cell_type": "markdown",
      "metadata": {
        "id": "v0bxfbFz_Qb6",
        "colab_type": "text"
      },
      "source": [
        "## Experiment with Various Image Transformations\n",
        "\n",
        "In this section you will get some practice doing some basic image transformations. Before we begin making transformations let's define our `batch_size` and our image size. Remember that the input to our CNN are images of the same size. We therefore have to resize the images in our dataset to the same size.\n",
        "\n",
        "### TODO: Set Batch and Image Size\n",
        "\n",
        "In the cell below, create a `batch_size` of 100 images and set a value to `IMG_SHAPE` such that our training data consists of images with width of 150 pixels and height of 150 pixels."
      ]
    },
    {
      "cell_type": "markdown",
      "metadata": {
        "id": "VlYOkUxU_ToH",
        "colab_type": "text"
      },
      "source": [
        "batch_size =\n",
        "IMG_SHAPE = "
      ]
    },
    {
      "cell_type": "markdown",
      "metadata": {
        "id": "Hm5AMOuM_Wol",
        "colab_type": "text"
      },
      "source": [
        "### TODO: Apply Random Horizontal Flip\n",
        "\n",
        "In the cell below, use ImageDataGenerator to create a transformation that rescales the images by 255 and then applies a random horizontal flip. Then use the `.flow_from_directory` method to apply the above transformation to the images in our training set. Make sure you indicate the batch size, the path to the directory of the training images, the target size for the images, and to shuffle the images. "
      ]
    },
    {
      "cell_type": "code",
      "metadata": {
        "id": "WSzySjbT_aBG",
        "colab_type": "code",
        "colab": {}
      },
      "source": [
        "image_gen = \n",
        "\n",
        "train_data_gen = "
      ],
      "execution_count": 0,
      "outputs": []
    },
    {
      "cell_type": "markdown",
      "metadata": {
        "id": "X194T3An_cjj",
        "colab_type": "text"
      },
      "source": [
        "Let's take 1 sample image from our training examples and repeat it 5 times so that the augmentation can be applied to the same image 5 times over randomly, to see the augmentation in action."
      ]
    },
    {
      "cell_type": "code",
      "metadata": {
        "id": "JUoPFfEp_fE4",
        "colab_type": "code",
        "colab": {}
      },
      "source": [
        "# This function will plot images in the form of a grid with 1 row and 5 columns where images are placed in each column.\n",
        "def plotImages(images_arr):\n",
        "    fig, axes = plt.subplots(1, 5, figsize=(20,20))\n",
        "    axes = axes.flatten()\n",
        "    for img, ax in zip( images_arr, axes):\n",
        "        ax.imshow(img)\n",
        "    plt.tight_layout()\n",
        "    plt.show()\n",
        "\n",
        "\n",
        "augmented_images = [train_data_gen[0][0][0] for i in range(5)]\n",
        "plotImages(augmented_images)"
      ],
      "execution_count": 0,
      "outputs": []
    },
    {
      "cell_type": "markdown",
      "metadata": {
        "id": "EjyeFb42_kSi",
        "colab_type": "text"
      },
      "source": [
        "### TOO: Apply Random Rotation\n",
        "\n",
        "In the cell below, use ImageDataGenerator to create a transformation that rescales the images by 255 and then applies a random 45 degree rotation. Then use the `.flow_from_directory` method to apply the above transformation to the images in our training set. Make sure you indicate the batch size, the path to the directory of the training images, the target size for the images, and to shuffle the images. "
      ]
    },
    {
      "cell_type": "code",
      "metadata": {
        "id": "aGipyA_f_nDf",
        "colab_type": "code",
        "colab": {}
      },
      "source": [
        "image_gen = \n",
        "\n",
        "train_data_gen = "
      ],
      "execution_count": 0,
      "outputs": []
    },
    {
      "cell_type": "markdown",
      "metadata": {
        "id": "mELj0gWH_plE",
        "colab_type": "text"
      },
      "source": [
        "Let's take 1 sample image from our training examples and repeat it 5 times so that the augmentation can be applied to the same image 5 times over randomly, to see the augmentation in action."
      ]
    },
    {
      "cell_type": "code",
      "metadata": {
        "id": "TJItdoKx_sH9",
        "colab_type": "code",
        "colab": {}
      },
      "source": [
        "augmented_images = [train_data_gen[0][0][0] for i in range(5)]\n",
        "plotImages(augmented_images)"
      ],
      "execution_count": 0,
      "outputs": []
    },
    {
      "cell_type": "markdown",
      "metadata": {
        "id": "S2IkwMO3_v3j",
        "colab_type": "text"
      },
      "source": [
        "### TODO: Apply Random Zoom\n",
        "\n",
        "In the cell below, use ImageDataGenerator to create a transformation that rescales the images by 255 and then applies a random zoom of up to 50%. Then use the `.flow_from_directory` method to apply the above transformation to the images in our training set. Make sure you indicate the batch size, the path to the directory of the training images, the target size for the images, and to shuffle the images. "
      ]
    },
    {
      "cell_type": "code",
      "metadata": {
        "id": "SubyHVJw_ych",
        "colab_type": "code",
        "colab": {}
      },
      "source": [
        "image_gen = \n",
        "\n",
        "train_data_gen = "
      ],
      "execution_count": 0,
      "outputs": []
    },
    {
      "cell_type": "markdown",
      "metadata": {
        "id": "JIlxxL-S_1N_",
        "colab_type": "text"
      },
      "source": [
        "Let's take 1 sample image from our training examples and repeat it 5 times so that the augmentation can be applied to the same image 5 times over randomly, to see the augmentation in action."
      ]
    },
    {
      "cell_type": "code",
      "metadata": {
        "id": "YnlRMqvw_6Vg",
        "colab_type": "code",
        "colab": {}
      },
      "source": [
        "augmented_images = [train_data_gen[0][0][0] for i in range(5)]\n",
        "plotImages(augmented_images)"
      ],
      "execution_count": 0,
      "outputs": []
    },
    {
      "cell_type": "markdown",
      "metadata": {
        "id": "D85wPY8f_-EO",
        "colab_type": "text"
      },
      "source": [
        "### TODO: Put It All Together\n",
        "\n",
        "In the cell below, use ImageDataGenerator to create a transformation that rescales the images by 255 and that applies:\n",
        "\n",
        "- random 45 degree rotation\n",
        "- random zoom of up to 50%\n",
        "- random horizontal flip\n",
        "- width shift of 0.15\n",
        "- height shift of 0.15\n",
        "\n",
        "Then use the `.flow_from_directory` method to apply the above transformation to the images in our training set. Make sure you indicate the batch size, the path to the directory of the training images, the target size for the images, to shuffle the images, and to set the class mode to `sparse`."
      ]
    },
    {
      "cell_type": "code",
      "metadata": {
        "id": "a_igm_5zAAy3",
        "colab_type": "code",
        "colab": {}
      },
      "source": [
        "image_gen_train = \n",
        "\n",
        "\n",
        "train_data_gen = "
      ],
      "execution_count": 0,
      "outputs": []
    },
    {
      "cell_type": "markdown",
      "metadata": {
        "id": "3vhLWvnNAD2k",
        "colab_type": "text"
      },
      "source": [
        "Let's visualize how a single image would look like 5 different times, when we pass these augmentations randomly to our dataset."
      ]
    },
    {
      "cell_type": "code",
      "metadata": {
        "id": "BXXSx3ybAHE_",
        "colab_type": "code",
        "colab": {}
      },
      "source": [
        "augmented_images = [train_data_gen[0][0][0] for i in range(5)]\n",
        "plotImages(augmented_images)"
      ],
      "execution_count": 0,
      "outputs": []
    },
    {
      "cell_type": "markdown",
      "metadata": {
        "id": "t5cW9sAGALA8",
        "colab_type": "text"
      },
      "source": [
        "### TODO: Create a Data Generator for the Validation Set\n",
        "\n",
        "Generally, we only apply data augmentation to our training examples. So, in the cell below, use ImageDataGenerator to create a transformation that only rescales the images by 255. Then use the `.flow_from_directory` method to apply the above transformation to the images in our validation set. Make sure you indicate the batch size, the path to the directory of the validation images, the target size for the images, and to set the class mode to `sparse`. Remember that it is not necessary to shuffle the images in the validation set. "
      ]
    },
    {
      "cell_type": "code",
      "metadata": {
        "id": "aU4zMUciAObR",
        "colab_type": "code",
        "colab": {}
      },
      "source": [
        "image_gen_val = \n",
        "val_data_gen = "
      ],
      "execution_count": 0,
      "outputs": []
    },
    {
      "cell_type": "markdown",
      "metadata": {
        "id": "Hscds2iQAR64",
        "colab_type": "text"
      },
      "source": [
        "# TODO: Create the CNN\n",
        "\n",
        "In the cell below, create a convolutional neural network that consists of 3 convolution blocks. Each convolutional block contains a `Conv2D` layer followed by a max pool layer. The first convolutional block should have 16 filters, the second one should have 32 filters, and the third one should have 64 filters. All convolutional filters should be 3 x 3. All max pool layers should have a `pool_size` of `(2, 2)`.\n",
        "\n",
        "After the 3 convolutional blocks you should have a flatten layer followed by a fully connected layer with 512 units. The CNN should output class probabilities based on 5 classes which is done by the **softmax** activation function. All other layers should use a **relu** activation function. You should also add Dropout layers with a probability of 20%, where appropriate. "
      ]
    },
    {
      "cell_type": "code",
      "metadata": {
        "id": "4iOQdjBQAXie",
        "colab_type": "code",
        "colab": {}
      },
      "source": [
        "model = "
      ],
      "execution_count": 0,
      "outputs": []
    },
    {
      "cell_type": "markdown",
      "metadata": {
        "id": "MHH2c-kpAbCP",
        "colab_type": "text"
      },
      "source": [
        "# TODO: Compile the Model\n",
        "\n",
        "In the cell below, compile your model using the ADAM optimizer, the sparse cross entropy function as a loss function. We would also like to look at training and validation accuracy on each epoch as we train our network, so make sure you also pass the metrics argument."
      ]
    },
    {
      "cell_type": "code",
      "metadata": {
        "id": "JKe057JDAdWK",
        "colab_type": "code",
        "colab": {}
      },
      "source": [
        "# Compile the model"
      ],
      "execution_count": 0,
      "outputs": []
    },
    {
      "cell_type": "markdown",
      "metadata": {
        "id": "X95FyIIiAgRQ",
        "colab_type": "text"
      },
      "source": [
        "# TODO: Train the Model\n",
        "\n",
        "In the cell below, train your model using the **fit_generator** function instead of the usual **fit** function. We have to use the `fit_generator` function because we are using the **ImageDataGenerator** class to generate batches of training and validation data for our model. Train the model for 80 epochs and make sure you use the proper parameters in the `fit_generator` function."
      ]
    },
    {
      "cell_type": "code",
      "metadata": {
        "id": "79mnL2lfAjg3",
        "colab_type": "code",
        "colab": {}
      },
      "source": [
        "epochs = \n",
        "\n",
        "history = "
      ],
      "execution_count": 0,
      "outputs": []
    },
    {
      "cell_type": "markdown",
      "metadata": {
        "id": "lf3XF6KQAnN2",
        "colab_type": "text"
      },
      "source": [
        "# TODO: Plot Training and Validation Graphs.\n",
        "\n",
        "In the cell below, plot the training and validation accuracy/loss graphs."
      ]
    },
    {
      "cell_type": "code",
      "metadata": {
        "id": "sflqnOLDAqlj",
        "colab_type": "code",
        "colab": {}
      },
      "source": [
        "acc = \n",
        "val_acc = \n",
        "\n",
        "loss = \n",
        "val_loss = \n",
        "\n",
        "epochs_range = "
      ],
      "execution_count": 0,
      "outputs": []
    },
    {
      "cell_type": "markdown",
      "metadata": {
        "id": "9jXnIP5ZAvMM",
        "colab_type": "text"
      },
      "source": [
        "# TODO: Experiment with Different Parameters\n",
        "\n",
        "So far you've created a CNN with 3 convolutional layers and followed by a fully connected layer with 512 units. In the cells below create a new CNN with a different architecture. Feel free to experiment by changing as many parameters as you like. For example, you can add more convolutional layers, or more fully connected layers. You can also experiment with different filter sizes in your convolutional layers, different number of units in your fully connected layers, different dropout rates, etc... You can also experiment by performing image augmentation with more image transformations that we have seen so far. Take a look at the [ImageDataGenerator Documentation](https://keras.io/preprocessing/image/) to see a full list of all the available image transformations. For example, you can add shear transformations, or you can vary the brightness of the images, etc... Experiment as much as you can and compare the accuracy of your various models. Which parameters give you the best result?"
      ]
    }
  ]
}