{
  "nbformat": 4,
  "nbformat_minor": 0,
  "metadata": {
    "kernelspec": {
      "display_name": "Python 3",
      "language": "python",
      "name": "python3"
    },
    "language_info": {
      "codemirror_mode": {
        "name": "ipython",
        "version": 3
      },
      "file_extension": ".py",
      "mimetype": "text/x-python",
      "name": "python",
      "nbconvert_exporter": "python",
      "pygments_lexer": "ipython3",
      "version": "3.7.5"
    },
    "colab": {
      "name": "MNIST-CONV.ipynb",
      "provenance": [],
      "include_colab_link": true
    }
  },
  "cells": [
    {
      "cell_type": "markdown",
      "metadata": {
        "id": "view-in-github",
        "colab_type": "text"
      },
      "source": [
        "<a href=\"https://colab.research.google.com/github/angelmorenocalvo/taller_TensorFlow/blob/master/MNIST_CONV.ipynb\" target=\"_parent\"><img src=\"https://colab.research.google.com/assets/colab-badge.svg\" alt=\"Open In Colab\"/></a>"
      ]
    },
    {
      "cell_type": "code",
      "metadata": {
        "id": "ZdGxwFJAJ_y1",
        "colab_type": "code",
        "colab": {},
        "outputId": "3332137f-f536-4e92-9cb7-5907cc876f89"
      },
      "source": [
        "import tensorflow as tf\n",
        "from keras.datasets import mnist\n",
        "(train_images, train_labels), (test_images, test_labels) = mnist.load_data()"
      ],
      "execution_count": 0,
      "outputs": [
        {
          "output_type": "stream",
          "text": [
            "Using TensorFlow backend.\n"
          ],
          "name": "stderr"
        }
      ]
    },
    {
      "cell_type": "code",
      "metadata": {
        "id": "t6mLgBBLJ_y5",
        "colab_type": "code",
        "colab": {}
      },
      "source": [
        "from keras import models\n",
        "from keras import layers"
      ],
      "execution_count": 0,
      "outputs": []
    },
    {
      "cell_type": "code",
      "metadata": {
        "id": "K3hA9sBzJ_y8",
        "colab_type": "code",
        "colab": {},
        "outputId": "365b4f7d-048a-4135-921c-648fa4f59416"
      },
      "source": [
        "model = models.Sequential()\n",
        "model.add(layers.Conv2D(32, (3, 3), activation='relu', input_shape=(28, 28, 1)))\n",
        "model.add(layers.MaxPooling2D((2, 2)))\n",
        "model.add(layers.Conv2D(64, (3, 3), activation='relu'))\n",
        "model.add(layers.MaxPooling2D((2, 2)))\n",
        "model.add(layers.Conv2D(64, (3, 3), activation='relu'))\n",
        "model.add(layers.MaxPooling2D((2, 2)))"
      ],
      "execution_count": 0,
      "outputs": [
        {
          "output_type": "stream",
          "text": [
            "WARNING:tensorflow:From /home/teodoro/anaconda3/envs/tensorflow/lib/python3.7/site-packages/keras/backend/tensorflow_backend.py:74: The name tf.get_default_graph is deprecated. Please use tf.compat.v1.get_default_graph instead.\n",
            "\n",
            "WARNING:tensorflow:From /home/teodoro/anaconda3/envs/tensorflow/lib/python3.7/site-packages/keras/backend/tensorflow_backend.py:517: The name tf.placeholder is deprecated. Please use tf.compat.v1.placeholder instead.\n",
            "\n",
            "WARNING:tensorflow:From /home/teodoro/anaconda3/envs/tensorflow/lib/python3.7/site-packages/keras/backend/tensorflow_backend.py:4138: The name tf.random_uniform is deprecated. Please use tf.random.uniform instead.\n",
            "\n",
            "WARNING:tensorflow:From /home/teodoro/anaconda3/envs/tensorflow/lib/python3.7/site-packages/keras/backend/tensorflow_backend.py:3976: The name tf.nn.max_pool is deprecated. Please use tf.nn.max_pool2d instead.\n",
            "\n"
          ],
          "name": "stdout"
        }
      ]
    },
    {
      "cell_type": "code",
      "metadata": {
        "id": "3ju54uYZJ_y-",
        "colab_type": "code",
        "colab": {},
        "outputId": "8ddb2777-ae3c-429a-de4f-3948be1385db"
      },
      "source": [
        "model.summary()"
      ],
      "execution_count": 0,
      "outputs": [
        {
          "output_type": "stream",
          "text": [
            "_________________________________________________________________\n",
            "Layer (type)                 Output Shape              Param #   \n",
            "=================================================================\n",
            "conv2d_1 (Conv2D)            (None, 26, 26, 32)        320       \n",
            "_________________________________________________________________\n",
            "max_pooling2d_1 (MaxPooling2 (None, 13, 13, 32)        0         \n",
            "_________________________________________________________________\n",
            "conv2d_2 (Conv2D)            (None, 11, 11, 64)        18496     \n",
            "_________________________________________________________________\n",
            "max_pooling2d_2 (MaxPooling2 (None, 5, 5, 64)          0         \n",
            "_________________________________________________________________\n",
            "conv2d_3 (Conv2D)            (None, 3, 3, 64)          36928     \n",
            "_________________________________________________________________\n",
            "max_pooling2d_3 (MaxPooling2 (None, 1, 1, 64)          0         \n",
            "=================================================================\n",
            "Total params: 55,744\n",
            "Trainable params: 55,744\n",
            "Non-trainable params: 0\n",
            "_________________________________________________________________\n"
          ],
          "name": "stdout"
        }
      ]
    },
    {
      "cell_type": "code",
      "metadata": {
        "id": "AMlo_KHZJ_y_",
        "colab_type": "code",
        "colab": {}
      },
      "source": [
        "model.add(layers.Flatten())\n",
        "model.add(layers.Dense(64, activation='relu'))\n",
        "model.add(layers.Dense(10, activation='softmax'))\n"
      ],
      "execution_count": 0,
      "outputs": []
    },
    {
      "cell_type": "code",
      "metadata": {
        "id": "BSfEB9rIJ_zB",
        "colab_type": "code",
        "colab": {},
        "outputId": "01363d32-eb8a-429a-ed6e-439168b0f7c0"
      },
      "source": [
        "model.summary()"
      ],
      "execution_count": 0,
      "outputs": [
        {
          "output_type": "stream",
          "text": [
            "_________________________________________________________________\n",
            "Layer (type)                 Output Shape              Param #   \n",
            "=================================================================\n",
            "conv2d_1 (Conv2D)            (None, 26, 26, 32)        320       \n",
            "_________________________________________________________________\n",
            "max_pooling2d_1 (MaxPooling2 (None, 13, 13, 32)        0         \n",
            "_________________________________________________________________\n",
            "conv2d_2 (Conv2D)            (None, 11, 11, 64)        18496     \n",
            "_________________________________________________________________\n",
            "max_pooling2d_2 (MaxPooling2 (None, 5, 5, 64)          0         \n",
            "_________________________________________________________________\n",
            "conv2d_3 (Conv2D)            (None, 3, 3, 64)          36928     \n",
            "_________________________________________________________________\n",
            "max_pooling2d_3 (MaxPooling2 (None, 1, 1, 64)          0         \n",
            "_________________________________________________________________\n",
            "flatten_1 (Flatten)          (None, 64)                0         \n",
            "_________________________________________________________________\n",
            "dense_1 (Dense)              (None, 64)                4160      \n",
            "_________________________________________________________________\n",
            "dense_2 (Dense)              (None, 10)                650       \n",
            "=================================================================\n",
            "Total params: 60,554\n",
            "Trainable params: 60,554\n",
            "Non-trainable params: 0\n",
            "_________________________________________________________________\n"
          ],
          "name": "stdout"
        }
      ]
    },
    {
      "cell_type": "code",
      "metadata": {
        "id": "InU5yPYfJ_zD",
        "colab_type": "code",
        "colab": {},
        "outputId": "b083cdd5-b3a5-4955-9668-f71b5e7a6663"
      },
      "source": [
        "from keras.datasets import mnist\n",
        "from keras.utils import to_categorical\n",
        "\n",
        "(train_images, train_labels), (test_images, test_labels) = mnist.load_data()\n",
        "train_images = train_images.reshape((60000, 28, 28, 1))\n",
        "train_images = train_images.astype('float32') / 255\n",
        "\n",
        "test_images = test_images.reshape((10000, 28, 28, 1))\n",
        "test_images = test_images.astype('float32') / 255\n",
        "\n",
        "train_labels = to_categorical(train_labels)\n",
        "test_labels = to_categorical(test_labels)\n",
        "\n",
        "model.compile(optimizer='rmsprop',\n",
        "              loss='categorical_crossentropy',\n",
        "              metrics=['accuracy'])\n",
        "history = model.fit(train_images, train_labels, epochs=20, batch_size=64, validation_data=(test_images,test_labels))\n"
      ],
      "execution_count": 0,
      "outputs": [
        {
          "output_type": "stream",
          "text": [
            "Train on 60000 samples, validate on 10000 samples\n",
            "Epoch 1/20\n",
            "60000/60000 [==============================] - 16s 270us/step - loss: 0.0398 - acc: 0.9884 - val_loss: 0.0685 - val_acc: 0.9847\n",
            "Epoch 2/20\n",
            "60000/60000 [==============================] - 16s 265us/step - loss: 0.0360 - acc: 0.9899 - val_loss: 0.0786 - val_acc: 0.9837\n",
            "Epoch 3/20\n",
            "60000/60000 [==============================] - 16s 274us/step - loss: 0.0348 - acc: 0.9906 - val_loss: 0.0782 - val_acc: 0.9839\n",
            "Epoch 4/20\n",
            "60000/60000 [==============================] - 17s 280us/step - loss: 0.0317 - acc: 0.9919 - val_loss: 0.1122 - val_acc: 0.9815\n",
            "Epoch 5/20\n",
            "60000/60000 [==============================] - 17s 278us/step - loss: 0.0327 - acc: 0.9920 - val_loss: 0.0871 - val_acc: 0.9857\n",
            "Epoch 6/20\n",
            "60000/60000 [==============================] - 17s 277us/step - loss: 0.0294 - acc: 0.9929 - val_loss: 0.1141 - val_acc: 0.9826\n",
            "Epoch 7/20\n",
            "60000/60000 [==============================] - 17s 283us/step - loss: 0.0310 - acc: 0.9931 - val_loss: 0.1087 - val_acc: 0.9846\n",
            "Epoch 8/20\n",
            "60000/60000 [==============================] - 17s 289us/step - loss: 0.0330 - acc: 0.9935 - val_loss: 0.1100 - val_acc: 0.9857\n",
            "Epoch 9/20\n",
            "60000/60000 [==============================] - 17s 288us/step - loss: 0.0398 - acc: 0.9930 - val_loss: 0.1609 - val_acc: 0.9806\n",
            "Epoch 10/20\n",
            "60000/60000 [==============================] - 17s 280us/step - loss: 0.0460 - acc: 0.9927 - val_loss: 0.1226 - val_acc: 0.9870\n",
            "Epoch 11/20\n",
            "60000/60000 [==============================] - 17s 279us/step - loss: 0.0481 - acc: 0.9928 - val_loss: 0.1402 - val_acc: 0.9865\n",
            "Epoch 12/20\n",
            "60000/60000 [==============================] - 17s 282us/step - loss: 0.0592 - acc: 0.9925 - val_loss: 0.1567 - val_acc: 0.9861\n",
            "Epoch 13/20\n",
            "60000/60000 [==============================] - 18s 294us/step - loss: 0.0709 - acc: 0.9924 - val_loss: 0.1634 - val_acc: 0.9856\n",
            "Epoch 14/20\n",
            "60000/60000 [==============================] - 17s 285us/step - loss: 0.0958 - acc: 0.9905 - val_loss: 0.2189 - val_acc: 0.9820\n",
            "Epoch 15/20\n",
            "60000/60000 [==============================] - 17s 286us/step - loss: 0.1162 - acc: 0.9895 - val_loss: 0.2030 - val_acc: 0.9845\n",
            "Epoch 16/20\n",
            "60000/60000 [==============================] - 18s 292us/step - loss: 0.1321 - acc: 0.9887 - val_loss: 0.2689 - val_acc: 0.9800\n",
            "Epoch 17/20\n",
            "60000/60000 [==============================] - 18s 295us/step - loss: 0.1634 - acc: 0.9874 - val_loss: 0.2516 - val_acc: 0.9827\n",
            "Epoch 18/20\n",
            "60000/60000 [==============================] - 17s 284us/step - loss: 0.2172 - acc: 0.9840 - val_loss: 0.3839 - val_acc: 0.9730\n",
            "Epoch 19/20\n",
            "60000/60000 [==============================] - 17s 282us/step - loss: 0.2833 - acc: 0.9806 - val_loss: 0.3386 - val_acc: 0.9772\n",
            "Epoch 20/20\n",
            "60000/60000 [==============================] - 17s 290us/step - loss: 0.3441 - acc: 0.9768 - val_loss: 0.4087 - val_acc: 0.9734\n"
          ],
          "name": "stdout"
        }
      ]
    },
    {
      "cell_type": "code",
      "metadata": {
        "id": "gAfZuZMEJ_zF",
        "colab_type": "code",
        "colab": {}
      },
      "source": [
        "import matplotlib.pyplot as plt"
      ],
      "execution_count": 0,
      "outputs": []
    },
    {
      "cell_type": "code",
      "metadata": {
        "id": "0F7vsLGzJ_zH",
        "colab_type": "code",
        "colab": {},
        "outputId": "f86e1070-ed1b-494f-9002-37c6c11313c7"
      },
      "source": [
        "plt.plot(history.epoch, history.history['val_acc'], label='validation')\n",
        "plt.plot(history.epoch, history.history['acc'], label='training')\n",
        "plt.legend()\n",
        "plt.title('Success Rate Evolution')\n",
        "plt.xlabel('Epoch')\n",
        "plt.xticks(history.epoch)\n",
        "plt.show()"
      ],
      "execution_count": 0,
      "outputs": [
        {
          "output_type": "display_data",
          "data": {
            "image/png": "[encoded data removed]",
            "text/plain": [
              "<Figure size 432x288 with 1 Axes>"
            ]
          },
          "metadata": {
            "tags": [],
            "needs_background": "light"
          }
        }
      ]
    },
    {
      "cell_type": "code",
      "metadata": {
        "id": "j3R0hS6cJ_zJ",
        "colab_type": "code",
        "colab": {}
      },
      "source": [
        ""
      ],
      "execution_count": 0,
      "outputs": []
    }
  ]
}